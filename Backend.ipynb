{
 "cells": [
  {
   "cell_type": "code",
   "execution_count": 1,
   "metadata": {},
   "outputs": [],
   "source": [
    "import pandas as pd\n",
    "import numpy as np\n",
    "from flask import Flask, request, render_template, redirect, url_for\n",
    "app = Flask(__name__)"
   ]
  },
  {
   "cell_type": "code",
   "execution_count": 2,
   "metadata": {},
   "outputs": [],
   "source": [
    "# location, industry and job variables for querying\n",
    "# TODO: input variables from front-end\n",
    "\n",
    "# industry code\n",
    "industry = 89\n",
    "industrySubmit = True\n",
    "\n",
    "# job code\n",
    "job = \"Deck and Fishing Hands\"\n",
    "jobSubmit = False\n",
    "\n",
    "# city for jobs\n",
    "location = \"ACT\"\n",
    "locationSubmit = True"
   ]
  },
  {
   "cell_type": "code",
   "execution_count": 3,
   "metadata": {},
   "outputs": [],
   "source": [
    "# load data about jobs in each state\n",
    "ACT = pd.read_csv(\"data/ACT_jobsalary.csv\")\n",
    "NSW = pd.read_csv(\"data/NSW_jobsalary.csv\")\n",
    "NT = pd.read_csv(\"data/NT_jobsalary.csv\")\n",
    "QLD = pd.read_csv(\"data/QLD_jobsalary.csv\")\n",
    "TAS = pd.read_csv(\"data/TAS_jobsalary.csv\")\n",
    "SA = pd.read_csv(\"data/SA_jobsalary.csv\")\n",
    "VIC = pd.read_csv(\"data/VIC_jobsalary.csv\")\n",
    "\n",
    "# load data about cost of living in cities\n",
    "COL = pd.read_csv(\"data/COL.csv\")\n",
    "\n",
    "# load data about available jobs\n",
    "jobs = pd.read_csv(\"data/laborjobs.csv\")\n",
    "\n",
    "# load data about availalbe industries\n",
    "industries = pd.read_csv(\"data/industries.csv\")\n"
   ]
  },
  {
   "cell_type": "code",
   "execution_count": 4,
   "metadata": {},
   "outputs": [],
   "source": [
    "# returns score for respective jobs\n",
    "def rankJob(row, costOfLiving, w1, w2):\n",
    "    salary = row[\"salary\"]\n",
    "    growth = row[\"projemp\"]\n",
    "    return w1*(salary-costOfLiving)+w2*growth"
   ]
  },
  {
   "cell_type": "code",
   "execution_count": null,
   "metadata": {},
   "outputs": [],
   "source": [
    "# returns the top n entries in relation to loc, industry etc.\n",
    "def getTopN(stateDF, costOfLiving, n, w1, w2):\n",
    "    stateDF[\"score\"] = [rankJob(row, costOfLiving, w1, w2) for index, row in stateDF.iterrows()]\n",
    "    stateDF[\"rank\"] = stateDF[\"score\"].rank(ascending=False)\n",
    "    return stateDF.sort_values(by=\"rank\")[:n]"
   ]
  },
  {
   "cell_type": "code",
   "execution_count": null,
   "metadata": {},
   "outputs": [],
   "source": [
    "# filters by industry\n",
    "def filterByIndustry(industrycode, dataframe):\n",
    "    return dataframe[dataframe[\"ocode\"] \n",
    "                     // np.power(10, np.log10(dataframe[\"ocode\"]).astype(int) - 1) == industrycode]\n"
   ]
  },
  {
   "cell_type": "code",
   "execution_count": null,
   "metadata": {},
   "outputs": [],
   "source": [
    "# maps the string to the corresponding stateDF\n",
    "def mapStateDF(string):\n",
    "    if string == \"ACT\":\n",
    "        return ACT\n",
    "    elif string == \"NSW\":\n",
    "        return NSW\n",
    "    elif string == \"QLD\":\n",
    "        return QLD\n",
    "    elif string == \"TAS\":\n",
    "        return TAS\n",
    "    elif string == \"SA\":\n",
    "        return SA\n",
    "    elif string == \"NT\":\n",
    "        return NT\n",
    "    else:\n",
    "        return VIC"
   ]
  },
  {
   "cell_type": "code",
   "execution_count": null,
   "metadata": {},
   "outputs": [
    {
     "name": "stderr",
     "output_type": "stream",
     "text": [
      "/Users/Chinmay/anaconda3/lib/python3.7/site-packages/ipykernel_launcher.py:3: SettingWithCopyWarning: \n",
      "A value is trying to be set on a copy of a slice from a DataFrame.\n",
      "Try using .loc[row_indexer,col_indexer] = value instead\n",
      "\n",
      "See the caveats in the documentation: http://pandas.pydata.org/pandas-docs/stable/indexing.html#indexing-view-versus-copy\n",
      "  This is separate from the ipykernel package so we can avoid doing imports until\n",
      "/Users/Chinmay/anaconda3/lib/python3.7/site-packages/ipykernel_launcher.py:4: SettingWithCopyWarning: \n",
      "A value is trying to be set on a copy of a slice from a DataFrame.\n",
      "Try using .loc[row_indexer,col_indexer] = value instead\n",
      "\n",
      "See the caveats in the documentation: http://pandas.pydata.org/pandas-docs/stable/indexing.html#indexing-view-versus-copy\n",
      "  after removing the cwd from sys.path.\n"
     ]
    }
   ],
   "source": [
    "#TODO: check if industry is submitted\n",
    "industryList = list(industries[\"occupation\"])\n",
    "\n",
    "if industrySubmit:\n",
    "    # extract from field\n",
    "#     industry = \"\"\n",
    "    \n",
    "    # find the list of jobs\n",
    "    jobList = filterByIndustry(industry, jobs)\n",
    "    jobNames = list(jobList[\"occupation\"])\n",
    "    # TODO: display jobNames to the user\n",
    "    jobListCodes = list(jobList[\"ocode\"])\n",
    "    \n",
    "    # retrieve the top 3 jobs in the selected industry for each city\n",
    "    resultNo = 3\n",
    "    w1 = 0.5\n",
    "    w2 = 0.5\n",
    "    ACT_top3 =  getTopN(filterByIndustry(industry, ACT), 1, resultNo, w1, w2).reset_index().to_json()\n",
    "    NSW_top3 =  getTopN(filterByIndustry(industry, NSW), 1, resultNo, w1, w2).reset_index().to_json()\n",
    "    QLD_top3 =  getTopN(filterByIndustry(industry, QLD), 1, resultNo, w1, w2).reset_index().to_json()\n",
    "    TAS_top3 =  getTopN(filterByIndustry(industry, TAS), 1, resultNo, w1, w2).reset_index().to_json()\n",
    "    SA_top3 = getTopN(filterByIndustry(industry, SA), 1, resultNo, w1, w2).reset_index().to_json()\n",
    "    VIC_top3 = getTopN(filterByIndustry(industry, VIC), 1, resultNo, w1, w2).reset_index().to_json()\n",
    "\n",
    "    # TODO: check if job selected\n",
    "    if jobSubmit:\n",
    "        # extract from field\n",
    "#         job = \"\"\n",
    "        \n",
    "        # look for the job occupation\n",
    "        jobOccupationCode = jobList[jobList[\"occupation\"] == job].iat[0, 0]\n",
    "        if locationSubmit:\n",
    "            # set location\n",
    "#             location = \"\"\n",
    "            stateCode = COL[COL[\"City\"] == location]\n",
    "            stateDF = mapStateDF(location)\n",
    "            selection = stateDF[stateDF[\"ocode\"] == jobOccupationCode]\n",
    "            selection = selection.reset_index()\n",
    "            job_json = selection.to_json()\n",
    "    else:\n",
    "        # rank by state\n",
    "        if locationSubmit:\n",
    "            # retrieve the location df\n",
    "#             location = \"\"\n",
    "            # set the weights and no of results to display\n",
    "            w1 = 0.5\n",
    "            w2 = 0.5\n",
    "            resultNo = 5\n",
    "\n",
    "            stateCode = COL[COL[\"City\"] == location]\n",
    "            stateDF = mapStateDF(location)\n",
    "            filtered = stateDF[stateDF[\"ocode\"].isin(pd.Series(jobListCodes))]\n",
    "            \n",
    "            # costOfLiving = 1 because it's irrelevant for this ranking\n",
    "            dfRanked = getTopN(filtered, 1, resultNo, w1, w2)\n",
    "            dfRanked = dfRanked.reset_index()\n",
    "            ranked_job_json = dfRanked.to_json()"
   ]
  },
  {
   "cell_type": "code",
   "execution_count": null,
   "metadata": {},
   "outputs": [],
   "source": [
    "@app.route(\"/\", methods=['GET', 'POST'])\n",
    "def index():\n",
    "    if request.method == 'POST':\n",
    "        return redirect(url_for(\"mapSketch\"))\n",
    "    return render_template(\"index.html\", all_industries=list(industries[\"occupation\"]), all_occupations=list(jobs[\"occupation\"]))\n",
    "\n",
    "@app.route(\"/mapSketch\", methods=['GET', 'POST'])\n",
    "def mapSketch():\n",
    "    return render_template(\"mapSketch.html\")"
   ]
  },
  {
   "cell_type": "code",
   "execution_count": null,
   "metadata": {},
   "outputs": [
    {
     "name": "stdout",
     "output_type": "stream",
     "text": [
      " * Serving Flask app \"__main__\" (lazy loading)\n",
      " * Environment: production\n",
      "   WARNING: This is a development server. Do not use it in a production deployment.\n",
      "   Use a production WSGI server instead.\n",
      " * Debug mode: off\n"
     ]
    },
    {
     "name": "stderr",
     "output_type": "stream",
     "text": [
      " * Running on http://127.0.0.1:5010/ (Press CTRL+C to quit)\n",
      "127.0.0.1 - - [08/Sep/2019 13:27:47] \"\u001b[37mGET / HTTP/1.1\u001b[0m\" 200 -\n",
      "127.0.0.1 - - [08/Sep/2019 13:27:47] \"\u001b[37mGET /static/main.css HTTP/1.1\u001b[0m\" 200 -\n",
      "127.0.0.1 - - [08/Sep/2019 13:27:47] \"\u001b[37mGET /static/logo.png HTTP/1.1\u001b[0m\" 200 -\n",
      "127.0.0.1 - - [08/Sep/2019 13:27:47] \"\u001b[37mGET /static/left-arrow.png HTTP/1.1\u001b[0m\" 200 -\n",
      "127.0.0.1 - - [08/Sep/2019 13:27:47] \"\u001b[37mGET /static/main.js HTTP/1.1\u001b[0m\" 200 -\n",
      "127.0.0.1 - - [08/Sep/2019 13:28:00] \"\u001b[37mGET / HTTP/1.1\u001b[0m\" 200 -\n",
      "127.0.0.1 - - [08/Sep/2019 13:28:15] \"\u001b[32mPOST / HTTP/1.1\u001b[0m\" 302 -\n",
      "127.0.0.1 - - [08/Sep/2019 13:28:15] \"\u001b[37mGET /mapSketch HTTP/1.1\u001b[0m\" 200 -\n",
      "127.0.0.1 - - [08/Sep/2019 13:28:15] \"\u001b[37mGET /static/p5.js HTTP/1.1\u001b[0m\" 200 -\n",
      "127.0.0.1 - - [08/Sep/2019 13:28:15] \"\u001b[33mGET /p5.dom.js HTTP/1.1\u001b[0m\" 404 -\n",
      "127.0.0.1 - - [08/Sep/2019 13:28:15] \"\u001b[33mGET /p5.sound.js HTTP/1.1\u001b[0m\" 404 -\n",
      "127.0.0.1 - - [08/Sep/2019 13:28:15] \"\u001b[33mGET /sketch.js HTTP/1.1\u001b[0m\" 404 -\n",
      "127.0.0.1 - - [08/Sep/2019 13:28:15] \"\u001b[33mGET /p5.dom.js HTTP/1.1\u001b[0m\" 404 -\n",
      "127.0.0.1 - - [08/Sep/2019 13:28:15] \"\u001b[33mGET /p5.sound.js HTTP/1.1\u001b[0m\" 404 -\n",
      "127.0.0.1 - - [08/Sep/2019 13:28:15] \"\u001b[33mGET /sketch.js HTTP/1.1\u001b[0m\" 404 -\n",
      "127.0.0.1 - - [08/Sep/2019 13:28:16] \"\u001b[37mGET / HTTP/1.1\u001b[0m\" 200 -\n"
     ]
    }
   ],
   "source": [
    "if __name__=='__main__':\n",
    "    app.run(port=5010)"
   ]
  },
  {
   "cell_type": "code",
   "execution_count": null,
   "metadata": {},
   "outputs": [],
   "source": []
  }
 ],
 "metadata": {
  "kernelspec": {
   "display_name": "Python 3",
   "language": "python",
   "name": "python3"
  },
  "language_info": {
   "codemirror_mode": {
    "name": "ipython",
    "version": 3
   },
   "file_extension": ".py",
   "mimetype": "text/x-python",
   "name": "python",
   "nbconvert_exporter": "python",
   "pygments_lexer": "ipython3",
   "version": "3.7.1"
  }
 },
 "nbformat": 4,
 "nbformat_minor": 2
}
